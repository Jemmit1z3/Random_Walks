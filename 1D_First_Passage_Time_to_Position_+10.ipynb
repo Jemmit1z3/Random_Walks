{
  "nbformat": 4,
  "nbformat_minor": 0,
  "metadata": {
    "colab": {
      "provenance": [],
      "include_colab_link": true
    },
    "kernelspec": {
      "name": "python3",
      "display_name": "Python 3"
    },
    "language_info": {
      "name": "python"
    }
  },
  "cells": [
    {
      "cell_type": "markdown",
      "metadata": {
        "id": "view-in-github",
        "colab_type": "text"
      },
      "source": [
        "<a href=\"https://colab.research.google.com/github/Jemmit1z3/Random_Walks/blob/main/1D_First_Passage_Time_to_Position_%2B10.ipynb\" target=\"_parent\"><img src=\"https://colab.research.google.com/assets/colab-badge.svg\" alt=\"Open In Colab\"/></a>"
      ]
    },
    {
      "cell_type": "markdown",
      "source": [
        "This script simulates how long it takes for random walkers to reach a **target position** for the first time.\n",
        "\n",
        "What You'll Do:\n",
        "- Simulate 1000 random walkers, each taking up to 100 steps.\n",
        "- Track how many steps it takes each walker to reach position +10 for the first time.\n",
        "- Create a histogram of the \"first passage times\" (number of steps to reach the target).\n",
        "- Print how many walkers reached the target and calculate the histogram bin width.\n",
        "\n",
        "This explores the concept of **first passage time** — a key idea in random processes and stochastic modeling."
      ],
      "metadata": {
        "id": "OfXfq_AjO77c"
      }
    },
    {
      "cell_type": "code",
      "source": [
        "# Imports\n",
        "import numpy as np\n",
        "import matplotlib.pyplot as plt"
      ],
      "metadata": {
        "id": "VaX96k-MPKEk"
      },
      "execution_count": null,
      "outputs": []
    },
    {
      "cell_type": "code",
      "source": [
        "# Parameters\n",
        "num_walkers = 1000\n",
        "num_steps = 100\n",
        "target_position = 10\n",
        "first_passage_times = []"
      ],
      "metadata": {
        "id": "lYalPnCoPQ-p"
      },
      "execution_count": null,
      "outputs": []
    },
    {
      "cell_type": "code",
      "source": [
        "# TODO: Simulate first passage time for each walker\n",
        "for i in range(num_walkers):# Loop over the number of walkers\n",
        "  position = 0\n",
        "  for q in range(1,num_steps+1):# Loop over the number of steps\n",
        "    step=np.random.choice([-1,1])# Choose a random step\n",
        "    position+=step# Calculate position\n",
        "    if position== target_position:# Check if position is the target_position\n",
        "      first_passage_times.append(q)# Add step number to first_passage_times list\n",
        "      break\n",
        "\n",
        "print(f\"{len(first_passage_times)} out of {num_walkers} walkers reached position {target_position}\")"
      ],
      "metadata": {
        "id": "NcfQHRxuPwGa",
        "colab": {
          "base_uri": "https://localhost:8080/"
        },
        "outputId": "a27fdcb7-ed53-4847-ce3e-aaf28ac11022"
      },
      "execution_count": null,
      "outputs": [
        {
          "output_type": "stream",
          "name": "stdout",
          "text": [
            "326 out of 1000 walkers reached position 10\n"
          ]
        }
      ]
    },
    {
      "cell_type": "code",
      "source": [
        "# TODO: Plot the histogram\n",
        "plt.figure(figsize=(8, 4))\n",
        "# Plot the histogram of first_passage_times\n",
        "counts, bin_edges, patches = plt.hist(first_passage_times,bins=30)\n",
        "bin_width = bin_edges[1] - bin_edges[0]\n",
        "print(f\"Bin Width (interval size): {bin_width}\")\n",
        "plt.title(f\"First Passage Time to Position {target_position}\")\n",
        "plt.xlabel(\"Steps Taken\")\n",
        "plt.ylabel(\"Number of Walkers\")\n",
        "plt.grid(True)\n",
        "plt.show()"
      ],
      "metadata": {
        "id": "IPmUdxQ2Rx68",
        "colab": {
          "base_uri": "https://localhost:8080/",
          "height": 427
        },
        "outputId": "fd080821-43c4-4375-a6cc-df5c82306772"
      },
      "execution_count": null,
      "outputs": [
        {
          "output_type": "stream",
          "name": "stdout",
          "text": [
            "Bin Width (interval size): 3.0\n"
          ]
        },
        {
          "output_type": "display_data",
          "data": {
            "text/plain": [
              "<Figure size 800x400 with 1 Axes>"
            ],
            "image/png": "[encoded data removed]"
          },
          "metadata": {}
        }
      ]
    },
    {
      "cell_type": "markdown",
      "source": [
        "This simulation illustrates the idea of **first passage time** — how long it takes a random process to reach a specific outcome for the first time.\n",
        "\n",
        "Key insights:\n",
        "- Not all walkers reach the target in a limited number of steps.\n",
        "- Those who do take a **range of times**, reflecting the randomness of the process.\n",
        "- The histogram shows the **distribution** of arrival times, which can be wide or narrow depending on the target distance and number of steps allowed.\n",
        "\n",
        "First passage time is important in:\n",
        "- Physics (e.g., diffusion hitting a barrier)\n",
        "- Finance (e.g., a stock hitting a price)\n",
        "- Biology (e.g., molecules reaching a target site)\n",
        "\n",
        "It teaches that in random processes, even if an outcome is likely, the **time it takes to get there is highly variable**."
      ],
      "metadata": {
        "id": "iLd4FjpvcNL7"
      }
    }
  ]
}